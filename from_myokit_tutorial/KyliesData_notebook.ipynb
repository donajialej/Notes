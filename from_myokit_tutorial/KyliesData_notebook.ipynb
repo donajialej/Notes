{
 "metadata": {
  "language_info": {
   "codemirror_mode": {
    "name": "ipython",
    "version": 3
   },
   "file_extension": ".py",
   "mimetype": "text/x-python",
   "name": "python",
   "nbconvert_exporter": "python",
   "pygments_lexer": "ipython3",
   "version": 3
  },
  "orig_nbformat": 2
 },
 "nbformat": 4,
 "nbformat_minor": 2,
 "cells": [
  {
   "source": [
    "# Exploring the noise of Kylies data\n",
    "\n",
    "The first time I did this in MATLAB, so I'm re-doing it here. I already have text files with the data that I can export. \n",
    "\n",
    "All the files are in my OneDrive at: /OneDrive .../Postdoc/cardiacNoiseData, but I'll add some of the data here in folder Some_Kilies_data/\n",
    "\n",
    "There is a readme.txt file explaining what is in each file, including the names of the protocols and a dictionary of cell's names.  Protocols 3-5 are big files to have in github. Protocl 7 is the sine wave data, and protocol 6 is the action potential data. I'll start with one of the smaller data sets.\n",
    "\n",
    "\n",
    "## Protocol 2: Activation Kinetic 2\n",
    "\n",
    "Notes:\n",
    "- Cells 7 and 8 have different lengths and voltages than the others, so I'll start with the file with the other cells (1-6,9,10). FILE: KyliePR2cell123456910.txt\n",
    "- The protocol is FigureB4 in suplematary data. I'll plot it next\n",
    "\n",
    "\n",
    "To do:\n",
    "- how to load a txt file to numpy/python?\n",
    "- plot V, plot I \n",
    "\n"
   ],
   "cell_type": "markdown",
   "metadata": {}
  },
  {
   "cell_type": "code",
   "execution_count": null,
   "metadata": {},
   "outputs": [],
   "source": []
  }
 ]
}